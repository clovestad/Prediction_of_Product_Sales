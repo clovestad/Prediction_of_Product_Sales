{
  "nbformat": 4,
  "nbformat_minor": 0,
  "metadata": {
    "colab": {
      "provenance": [],
      "toc_visible": true,
      "mount_file_id": "https://github.com/clovestad/Prediction_of_Product_Sales/blob/main/sales_predictions.ipynb",
      "authorship_tag": "ABX9TyPXVCaiBdqUOwrcaTlJkc/0",
      "include_colab_link": true
    },
    "kernelspec": {
      "name": "python3",
      "display_name": "Python 3"
    },
    "language_info": {
      "name": "python"
    }
  },
  "cells": [
    {
      "cell_type": "markdown",
      "metadata": {
        "id": "view-in-github",
        "colab_type": "text"
      },
      "source": [
        "<a href=\"https://colab.research.google.com/github/clovestad/Prediction_of_Product_Sales/blob/main/sales_predictions.ipynb\" target=\"_parent\"><img src=\"https://colab.research.google.com/assets/colab-badge.svg\" alt=\"Open In Colab\"/></a>"
      ]
    },
    {
      "cell_type": "markdown",
      "source": [
        "#Prediction of Product Sales\n",
        "  Colin Lovestad\n",
        "\n",
        "##Project overview\n",
        "  -sales prediction for food items sold at various stores.\n",
        "##Load and Inspect Data"
      ],
      "metadata": {
        "id": "qnQO8AmLElBh"
      }
    },
    {
      "cell_type": "code",
      "execution_count": null,
      "metadata": {
        "id": "UIWe73CrDHnQ"
      },
      "outputs": [],
      "source": [
        "# import data and define the dataframe filepath\n",
        "import pandas as pd\n",
        "fpath=('/content/drive/MyDrive/StudentFolders16wk20wk/CodingDojo/01-Fundamentals/Week02/Data/sales_predictions_2023.csv')\n",
        "# read in data\n",
        "df= pd.read_csv(fpath)\n"
      ]
    },
    {
      "cell_type": "code",
      "source": [
        "#preview first 5 rows\n",
        "df.head()"
      ],
      "metadata": {
        "id": "yRbZAg3IDPDt"
      },
      "execution_count": null,
      "outputs": []
    },
    {
      "cell_type": "code",
      "source": [
        "#preview last 5 rows\n",
        "df.tail()"
      ],
      "metadata": {
        "id": "7PfZPf_qDXsd"
      },
      "execution_count": null,
      "outputs": []
    },
    {
      "cell_type": "code",
      "source": [
        "#display sumary information\n",
        "df.info()"
      ],
      "metadata": {
        "id": "tkSvXMmODhpl"
      },
      "execution_count": null,
      "outputs": []
    },
    {
      "cell_type": "markdown",
      "source": [
        "##Clean Data\n",
        "- 1) How many rows and columns?"
      ],
      "metadata": {
        "id": "y7GwT-qpFlqA"
      }
    },
    {
      "cell_type": "code",
      "source": [
        "#col/row count simplified, avaliable in info() as well\n",
        "df.shape"
      ],
      "metadata": {
        "id": "E6me82mQF6GS"
      },
      "execution_count": null,
      "outputs": []
    },
    {
      "cell_type": "markdown",
      "source": [
        "- Rows - 8523\n",
        "- Columns - 12"
      ],
      "metadata": {
        "id": "LLYEO9-jFDbG"
      }
    },
    {
      "cell_type": "markdown",
      "source": [
        "- 2) What are the datatypes of each variable?"
      ],
      "metadata": {
        "id": "FF4IyZ_yFIc0"
      }
    },
    {
      "cell_type": "code",
      "source": [
        "#data type check simplified, also avaliable on info() as well\n",
        "df.dtypes"
      ],
      "metadata": {
        "id": "5t5SUSKyFJsq"
      },
      "execution_count": null,
      "outputs": []
    },
    {
      "cell_type": "markdown",
      "source": [
        "- 3) Are there duplicates? If so, drop any duplicates."
      ],
      "metadata": {
        "id": "mmmspeBxFhq7"
      }
    },
    {
      "cell_type": "code",
      "source": [
        "duplicates= df.duplicated(keep= False)\n",
        "duplicates.sum()"
      ],
      "metadata": {
        "id": "Xu2BEKhNFlFE"
      },
      "execution_count": null,
      "outputs": []
    },
    {
      "cell_type": "markdown",
      "source": [
        "  - No duplicate entries\n",
        ""
      ],
      "metadata": {
        "id": "i4X2ePXvFoXz"
      }
    },
    {
      "cell_type": "markdown",
      "source": [
        "-  4) Identify missing values"
      ],
      "metadata": {
        "id": "qsbvr3MbFrP2"
      }
    },
    {
      "cell_type": "code",
      "source": [
        "## Get the number of null values for all columns and save as a variable\n",
        "all_4_none=df.isna().sum()\n",
        "all_4_none"
      ],
      "metadata": {
        "id": "lRv4_ZTPFxoT"
      },
      "execution_count": null,
      "outputs": []
    },
    {
      "cell_type": "code",
      "source": [
        "null_percent= all_4_none/len(df)*100\n",
        "null_percent"
      ],
      "metadata": {
        "id": "SpzCcPmyF7FI"
      },
      "execution_count": null,
      "outputs": []
    },
    {
      "cell_type": "markdown",
      "source": [
        "- OR use  missingno for visual representation"
      ],
      "metadata": {
        "id": "nT5CjIzEGAKs"
      }
    },
    {
      "cell_type": "code",
      "source": [
        "# Visualize the missing values using the missingno package's matrix plot.\n",
        "import missingno as msno\n",
        "msno.matrix(df)"
      ],
      "metadata": {
        "id": "gb-Sy6nlGBJI"
      },
      "execution_count": null,
      "outputs": []
    },
    {
      "cell_type": "markdown",
      "source": [
        "- address missing values with  placeholders\n",
        "- identify dtypes for appropriate  placeholder selection"
      ],
      "metadata": {
        "id": "QYl1rReYGJ_F"
      }
    },
    {
      "cell_type": "code",
      "source": [
        "df.dtypes"
      ],
      "metadata": {
        "id": "WvMN-f1rGNXd"
      },
      "execution_count": null,
      "outputs": []
    },
    {
      "cell_type": "markdown",
      "source": [
        "- weight dtype = int\n",
        "- outlet size dtype = object"
      ],
      "metadata": {
        "id": "EAUECFGCGTps"
      }
    },
    {
      "cell_type": "code",
      "source": [
        "df['Item_Weight']= df['Item_Weight'].fillna(-1)"
      ],
      "metadata": {
        "id": "Qw9r52ahGZkn"
      },
      "execution_count": null,
      "outputs": []
    },
    {
      "cell_type": "code",
      "source": [
        "df['Outlet_Size']=df['Outlet_Size'].fillna('MISSING')"
      ],
      "metadata": {
        "id": "CKHml3CpGc0c"
      },
      "execution_count": null,
      "outputs": []
    },
    {
      "cell_type": "markdown",
      "source": [
        "- Confirm missing data has been replaced with placevalues"
      ],
      "metadata": {
        "id": "lXygz_xiGgHA"
      }
    },
    {
      "cell_type": "code",
      "source": [
        "#already imported missingno above no need to import again\n",
        "msno.matrix(df);"
      ],
      "metadata": {
        "id": "PdosfpdyGggR"
      },
      "execution_count": null,
      "outputs": []
    },
    {
      "cell_type": "markdown",
      "source": [
        "- Checking for inconsistient values"
      ],
      "metadata": {
        "id": "fAqYgHrgHVJt"
      }
    },
    {
      "cell_type": "code",
      "source": [
        "# Save a list of object columns (Hint: select_dtypes)\n",
        "string_cols= df.select_dtypes('object').columns\n",
        "string_cols"
      ],
      "metadata": {
        "id": "6-L0RwbsHZuW"
      },
      "execution_count": null,
      "outputs": []
    },
    {
      "cell_type": "code",
      "source": [
        "# Check the nunique for just the object cols\n",
        "string_cols.nunique()"
      ],
      "metadata": {
        "id": "H-YZ7cofHfJO"
      },
      "execution_count": null,
      "outputs": []
    },
    {
      "cell_type": "markdown",
      "source": [
        "- Display the value counts for the column\n",
        "- Take a note of any values that are not consistent.\n"
      ],
      "metadata": {
        "id": "HnnwqAuMHiXI"
      }
    },
    {
      "cell_type": "code",
      "source": [
        "# loop through the list of string columnsas defined in variable above\n",
        "for col in string_cols:\n",
        "  # print the value counts for the column\n",
        "  print(f'Value counts for  {col}')\n",
        "  print(df[col].value_counts())\n",
        "  # Print an empty line for readability\n",
        "  print('\\n')"
      ],
      "metadata": {
        "id": "QWE9Fd4PHjDP"
      },
      "execution_count": null,
      "outputs": []
    },
    {
      "cell_type": "markdown",
      "source": [
        "- take note of repeat values or key values\n",
        "- incosistent values present in 'Item_Fat_Content' column\n"
      ],
      "metadata": {
        "id": "6j-5gTjzIBFP"
      }
    },
    {
      "cell_type": "markdown",
      "source": [
        "- isolate  values in question(for the purpose of clarity while renaming,same data is present in sting_col loop above)"
      ],
      "metadata": {
        "id": "6cLoHWUOJ84o"
      }
    },
    {
      "cell_type": "code",
      "source": [
        "df['Item_Fat_Content'].value_counts()"
      ],
      "metadata": {
        "id": "z-eI7DmQKA4r"
      },
      "execution_count": null,
      "outputs": []
    },
    {
      "cell_type": "markdown",
      "source": [
        "- replace LF & low fat with - Low Fat\n",
        "- replace reg  with - Regular"
      ],
      "metadata": {
        "id": "wZo8pCJKKZnk"
      }
    },
    {
      "cell_type": "code",
      "source": [
        "df['Item_Fat_Content']=df['Item_Fat_Content'].replace({'LF':\"Low Fat\",'low fat':\"Low Fat\", 'reg':\"Regular\"})"
      ],
      "metadata": {
        "id": "GzaSlYvtKyfx"
      },
      "execution_count": null,
      "outputs": []
    },
    {
      "cell_type": "markdown",
      "source": [
        "- verify values have been updated"
      ],
      "metadata": {
        "id": "lAPh7mRILwdy"
      }
    },
    {
      "cell_type": "code",
      "source": [
        "df['Item_Fat_Content'].value_counts()"
      ],
      "metadata": {
        "id": "t5S181gZLRQQ"
      },
      "execution_count": null,
      "outputs": []
    },
    {
      "cell_type": "markdown",
      "source": [
        "- Repeat process for numerical .dtypes"
      ],
      "metadata": {
        "id": "GsxayCLjMV9g"
      }
    },
    {
      "cell_type": "code",
      "source": [
        "# identify all numerical columns\n",
        "num_cols= df.select_dtypes('number').columns\n",
        "num_cols"
      ],
      "metadata": {
        "id": "KfksdnSsMfjQ"
      },
      "execution_count": null,
      "outputs": []
    },
    {
      "cell_type": "code",
      "source": [
        "num_cols.nunique()"
      ],
      "metadata": {
        "id": "8R-PYGYoMkK2"
      },
      "execution_count": null,
      "outputs": []
    },
    {
      "cell_type": "code",
      "source": [
        "for col in num_cols:\n",
        "\n",
        "  print(f'Value counts for  {col}')\n",
        "  print(df[col].value_counts())\n",
        "  # Print an empty line for readability\n",
        "  print('\\n')"
      ],
      "metadata": {
        "id": "JrTm99KYMoYs"
      },
      "execution_count": null,
      "outputs": []
    },
    {
      "cell_type": "markdown",
      "source": [
        "- no inconsistentcies noted\n",
        "-  For any numerical columns, obtain the summary statistics of each (min, max, mean)."
      ],
      "metadata": {
        "id": "FNoZFP6eNN2r"
      }
    },
    {
      "cell_type": "code",
      "source": [
        "df.describe()"
      ],
      "metadata": {
        "id": "Hc5R1heHNRO0"
      },
      "execution_count": null,
      "outputs": []
    },
    {
      "cell_type": "markdown",
      "source": [
        "##Exploratory Data Analysis"
      ],
      "metadata": {
        "id": "Y6ZnMoYwF6px"
      }
    },
    {
      "cell_type": "markdown",
      "source": [
        "- complete statistical analyses  through various graphs and plotting techniques to better understand the dataframe."
      ],
      "metadata": {
        "id": "zCiGoHbGs4rC"
      }
    },
    {
      "cell_type": "markdown",
      "source": [
        "-import all libraries"
      ],
      "metadata": {
        "id": "-o2BQwnBvtb_"
      }
    },
    {
      "cell_type": "code",
      "source": [
        "import matplotlib.pyplot as plt\n",
        "import seaborn as sns\n",
        "import pandas as pd\n",
        "import numpy as np"
      ],
      "metadata": {
        "id": "_DVEDyIhvoQU"
      },
      "execution_count": null,
      "outputs": []
    },
    {
      "cell_type": "markdown",
      "source": [
        "##numerical features"
      ],
      "metadata": {
        "id": "RJyavL1PtWZo"
      }
    },
    {
      "cell_type": "markdown",
      "source": [
        "- view distributions among applicable numerical columns"
      ],
      "metadata": {
        "id": "BCC3Xs7A1CoO"
      }
    },
    {
      "cell_type": "code",
      "source": [
        "# check info\n",
        "df.info()"
      ],
      "metadata": {
        "id": "6hT4MUmjrIqd"
      },
      "execution_count": null,
      "outputs": []
    },
    {
      "cell_type": "code",
      "source": [
        "# list all numeric columns\n",
        "num_cols"
      ],
      "metadata": {
        "id": "icsrfqeprX39"
      },
      "execution_count": null,
      "outputs": []
    },
    {
      "cell_type": "markdown",
      "source": [
        "- item outlet sales and item MRP are most applicable to undersatanding  data relating to increasing sales"
      ],
      "metadata": {
        "id": "nA1LAVC3x0G7"
      }
    },
    {
      "cell_type": "code",
      "source": [
        "ax= sns.histplot(data=df, x='Item_MRP')\n",
        "ax.set_title('distribution of item MRP')"
      ],
      "metadata": {
        "id": "fmDMAJGCsPCJ"
      },
      "execution_count": null,
      "outputs": []
    },
    {
      "cell_type": "code",
      "source": [
        "ax= sns.histplot(data=df, x='Item_Outlet_Sales')\n",
        "ax.set_title('distribution of Item_Outlet_Sales')"
      ],
      "metadata": {
        "id": "ToLZVrt50gxI"
      },
      "execution_count": null,
      "outputs": []
    },
    {
      "cell_type": "markdown",
      "source": [
        "- create boxplots for staistical summaries of the applicable numerical columns"
      ],
      "metadata": {
        "id": "0DfITgnY1Tcm"
      }
    },
    {
      "cell_type": "code",
      "source": [
        "g= sns.catplot(data=df, x='Item_Outlet_Sales',y='Item_MRP',hue='Item_Outlet_Sales', kind=\"box\", )"
      ],
      "metadata": {
        "id": "3u9jgYxQ5Ylb"
      },
      "execution_count": null,
      "outputs": []
    },
    {
      "cell_type": "markdown",
      "source": [
        "##Explanatory Data Analysis"
      ],
      "metadata": {
        "id": "vKQoGfwcGAw_"
      }
    }
  ]
}