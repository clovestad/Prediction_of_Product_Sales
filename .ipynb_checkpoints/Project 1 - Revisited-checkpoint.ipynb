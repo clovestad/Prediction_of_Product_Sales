{
 "cells": [
  {
   "cell_type": "code",
   "execution_count": 1,
   "id": "d914a1ea",
   "metadata": {},
   "outputs": [],
   "source": [
    "## standard imports\n",
    "import pandas as pd\n",
    "import numpy as np\n",
    "import matplotlib.pyplot as plt\n",
    "import seaborn as sns\n",
    "\n",
    "## Preprocessing tools\n",
    "from sklearn.model_selection import train_test_split\n",
    "from sklearn.compose import make_column_transformer, make_column_selector\n",
    "from sklearn.pipeline import make_pipeline\n",
    "from sklearn.preprocessing import OneHotEncoder, StandardScaler,OrdinalEncoder\n",
    "from sklearn.impute import SimpleImputer\n",
    "from sklearn.compose import ColumnTransformer\n",
    "## Models & evaluation metrics\n",
    "from sklearn import metrics\n",
    "from sklearn.linear_model import LinearRegression\n",
    "from sklearn.tree import DecisionTreeRegressor\n",
    "from sklearn.ensemble import RandomForestRegressor\n",
    "import joblib\n",
    "## setting random state for reproducibility\n",
    "SEED = 321\n",
    "np.random.seed(SEED)\n",
    "## set pandas to display more columns\n",
    "pd.set_option('display.max_columns',50)\n",
    "\n",
    "fpath=('Data/sales_predictions_2023.csv')\n",
    "# read in data\n",
    "df= pd.read_csv(fpath)"
   ]
  },
  {
   "cell_type": "code",
   "execution_count": 2,
   "id": "5e204c45",
   "metadata": {},
   "outputs": [
    {
     "name": "stderr",
     "output_type": "stream",
     "text": [
      "C:\\Users\\clove\\AppData\\Local\\Temp\\ipykernel_34268\\3480145228.py:9: FutureWarning: The default value of numeric_only in DataFrame.min is deprecated. In a future version, it will default to False. In addition, specifying 'numeric_only=None' is deprecated. Select only valid columns or specify the value of numeric_only to silence this warning.\n",
      "  \"min\":df.min(),\n",
      "C:\\Users\\clove\\AppData\\Local\\Temp\\ipykernel_34268\\3480145228.py:10: FutureWarning: The default value of numeric_only in DataFrame.max is deprecated. In a future version, it will default to False. In addition, specifying 'numeric_only=None' is deprecated. Select only valid columns or specify the value of numeric_only to silence this warning.\n",
      "  'max':df.max()\n"
     ]
    },
    {
     "data": {
      "text/html": [
       "<div>\n",
       "<style scoped>\n",
       "    .dataframe tbody tr th:only-of-type {\n",
       "        vertical-align: middle;\n",
       "    }\n",
       "\n",
       "    .dataframe tbody tr th {\n",
       "        vertical-align: top;\n",
       "    }\n",
       "\n",
       "    .dataframe thead th {\n",
       "        text-align: right;\n",
       "    }\n",
       "</style>\n",
       "<table border=\"1\" class=\"dataframe\">\n",
       "  <thead>\n",
       "    <tr style=\"text-align: right;\">\n",
       "      <th></th>\n",
       "      <th>Column</th>\n",
       "      <th>dtype</th>\n",
       "      <th># null</th>\n",
       "      <th>null (%)</th>\n",
       "      <th>nunique</th>\n",
       "      <th>min</th>\n",
       "      <th>max</th>\n",
       "    </tr>\n",
       "  </thead>\n",
       "  <tbody>\n",
       "    <tr>\n",
       "      <th>0</th>\n",
       "      <td>Item_Fat_Content</td>\n",
       "      <td>object</td>\n",
       "      <td>0</td>\n",
       "      <td>0.000000</td>\n",
       "      <td>5</td>\n",
       "      <td>LF</td>\n",
       "      <td>reg</td>\n",
       "    </tr>\n",
       "    <tr>\n",
       "      <th>1</th>\n",
       "      <td>Item_Identifier</td>\n",
       "      <td>object</td>\n",
       "      <td>0</td>\n",
       "      <td>0.000000</td>\n",
       "      <td>1559</td>\n",
       "      <td>DRA12</td>\n",
       "      <td>NCZ54</td>\n",
       "    </tr>\n",
       "    <tr>\n",
       "      <th>2</th>\n",
       "      <td>Item_MRP</td>\n",
       "      <td>float64</td>\n",
       "      <td>0</td>\n",
       "      <td>0.000000</td>\n",
       "      <td>5938</td>\n",
       "      <td>31.29</td>\n",
       "      <td>266.8884</td>\n",
       "    </tr>\n",
       "    <tr>\n",
       "      <th>3</th>\n",
       "      <td>Item_Outlet_Sales</td>\n",
       "      <td>float64</td>\n",
       "      <td>0</td>\n",
       "      <td>0.000000</td>\n",
       "      <td>3493</td>\n",
       "      <td>33.29</td>\n",
       "      <td>13086.9648</td>\n",
       "    </tr>\n",
       "    <tr>\n",
       "      <th>4</th>\n",
       "      <td>Item_Type</td>\n",
       "      <td>object</td>\n",
       "      <td>0</td>\n",
       "      <td>0.000000</td>\n",
       "      <td>16</td>\n",
       "      <td>Baking Goods</td>\n",
       "      <td>Starchy Foods</td>\n",
       "    </tr>\n",
       "    <tr>\n",
       "      <th>5</th>\n",
       "      <td>Item_Visibility</td>\n",
       "      <td>float64</td>\n",
       "      <td>0</td>\n",
       "      <td>0.000000</td>\n",
       "      <td>7880</td>\n",
       "      <td>0.0</td>\n",
       "      <td>0.328391</td>\n",
       "    </tr>\n",
       "    <tr>\n",
       "      <th>6</th>\n",
       "      <td>Item_Weight</td>\n",
       "      <td>float64</td>\n",
       "      <td>1463</td>\n",
       "      <td>17.165317</td>\n",
       "      <td>415</td>\n",
       "      <td>4.555</td>\n",
       "      <td>21.35</td>\n",
       "    </tr>\n",
       "    <tr>\n",
       "      <th>7</th>\n",
       "      <td>Outlet_Establishment_Year</td>\n",
       "      <td>int64</td>\n",
       "      <td>0</td>\n",
       "      <td>0.000000</td>\n",
       "      <td>9</td>\n",
       "      <td>1985</td>\n",
       "      <td>2009</td>\n",
       "    </tr>\n",
       "    <tr>\n",
       "      <th>8</th>\n",
       "      <td>Outlet_Identifier</td>\n",
       "      <td>object</td>\n",
       "      <td>0</td>\n",
       "      <td>0.000000</td>\n",
       "      <td>10</td>\n",
       "      <td>OUT010</td>\n",
       "      <td>OUT049</td>\n",
       "    </tr>\n",
       "    <tr>\n",
       "      <th>9</th>\n",
       "      <td>Outlet_Location_Type</td>\n",
       "      <td>object</td>\n",
       "      <td>0</td>\n",
       "      <td>0.000000</td>\n",
       "      <td>3</td>\n",
       "      <td>Tier 1</td>\n",
       "      <td>Tier 3</td>\n",
       "    </tr>\n",
       "    <tr>\n",
       "      <th>10</th>\n",
       "      <td>Outlet_Size</td>\n",
       "      <td>object</td>\n",
       "      <td>2410</td>\n",
       "      <td>28.276428</td>\n",
       "      <td>3</td>\n",
       "      <td>NaN</td>\n",
       "      <td>NaN</td>\n",
       "    </tr>\n",
       "    <tr>\n",
       "      <th>11</th>\n",
       "      <td>Outlet_Type</td>\n",
       "      <td>object</td>\n",
       "      <td>0</td>\n",
       "      <td>0.000000</td>\n",
       "      <td>4</td>\n",
       "      <td>Grocery Store</td>\n",
       "      <td>Supermarket Type3</td>\n",
       "    </tr>\n",
       "  </tbody>\n",
       "</table>\n",
       "</div>"
      ],
      "text/plain": [
       "                       Column    dtype  # null   null (%)  nunique  \\\n",
       "0            Item_Fat_Content   object       0   0.000000        5   \n",
       "1             Item_Identifier   object       0   0.000000     1559   \n",
       "2                    Item_MRP  float64       0   0.000000     5938   \n",
       "3           Item_Outlet_Sales  float64       0   0.000000     3493   \n",
       "4                   Item_Type   object       0   0.000000       16   \n",
       "5             Item_Visibility  float64       0   0.000000     7880   \n",
       "6                 Item_Weight  float64    1463  17.165317      415   \n",
       "7   Outlet_Establishment_Year    int64       0   0.000000        9   \n",
       "8           Outlet_Identifier   object       0   0.000000       10   \n",
       "9        Outlet_Location_Type   object       0   0.000000        3   \n",
       "10                Outlet_Size   object    2410  28.276428        3   \n",
       "11                Outlet_Type   object       0   0.000000        4   \n",
       "\n",
       "              min                max  \n",
       "0              LF                reg  \n",
       "1           DRA12              NCZ54  \n",
       "2           31.29           266.8884  \n",
       "3           33.29         13086.9648  \n",
       "4    Baking Goods      Starchy Foods  \n",
       "5             0.0           0.328391  \n",
       "6           4.555              21.35  \n",
       "7            1985               2009  \n",
       "8          OUT010             OUT049  \n",
       "9          Tier 1             Tier 3  \n",
       "10            NaN                NaN  \n",
       "11  Grocery Store  Supermarket Type3  "
      ]
     },
     "execution_count": 2,
     "metadata": {},
     "output_type": "execute_result"
    }
   ],
   "source": [
    "\n",
    "# function to summarize df\n",
    "def summarize_df(df_):\n",
    "    df = df_.copy()\n",
    "    report = pd.DataFrame({\n",
    "                        'dtype':df.dtypes,\n",
    "                        '# null': df.isna().sum(),\n",
    "                        'null (%)': df.isna().sum()/len(df)*100,\n",
    "                        'nunique':df.nunique(),\n",
    "                        \"min\":df.min(),\n",
    "                        'max':df.max()\n",
    "             })\n",
    "    report.index.name='Column'\n",
    "    return report.reset_index()\n",
    "summarize_df(df)"
   ]
  },
  {
   "cell_type": "markdown",
   "id": "0eb4179e",
   "metadata": {},
   "source": [
    "item weight and outlet size need some work.\n"
   ]
  },
  {
   "cell_type": "code",
   "execution_count": 3,
   "id": "063cf3fe",
   "metadata": {},
   "outputs": [],
   "source": [
    "\n",
    "# put placeholders on missing item weights\n",
    "df['Item_Weight']= df['Item_Weight'].fillna(-1)\n",
    "\n",
    "\n",
    "df['Item_Weight'].value_counts()\n",
    "#placeholder\n",
    "df['Outlet_Size']=df['Outlet_Size'].fillna('MISSING')\n",
    "# Drop unnessecary columns\n",
    "df= df.drop(columns=['Item_Identifier','Outlet_Establishment_Year','Outlet_Type','Outlet_Location_Type','Outlet_Identifier'])\n",
    "\n"
   ]
  },
  {
   "cell_type": "code",
   "execution_count": 4,
   "id": "8f59ad9e",
   "metadata": {},
   "outputs": [],
   "source": [
    "df['Item_Fat_Content']=df['Item_Fat_Content'].replace({'LF':\"Low Fat\",'low fat':\"Low Fat\", 'reg':\"Regular\"})"
   ]
  },
  {
   "cell_type": "code",
   "execution_count": 5,
   "id": "a7e0f305",
   "metadata": {},
   "outputs": [
    {
     "data": {
      "text/html": [
       "<div>\n",
       "<style scoped>\n",
       "    .dataframe tbody tr th:only-of-type {\n",
       "        vertical-align: middle;\n",
       "    }\n",
       "\n",
       "    .dataframe tbody tr th {\n",
       "        vertical-align: top;\n",
       "    }\n",
       "\n",
       "    .dataframe thead th {\n",
       "        text-align: right;\n",
       "    }\n",
       "</style>\n",
       "<table border=\"1\" class=\"dataframe\">\n",
       "  <thead>\n",
       "    <tr style=\"text-align: right;\">\n",
       "      <th></th>\n",
       "      <th>Column</th>\n",
       "      <th>dtype</th>\n",
       "      <th># null</th>\n",
       "      <th>null (%)</th>\n",
       "      <th>nunique</th>\n",
       "      <th>min</th>\n",
       "      <th>max</th>\n",
       "    </tr>\n",
       "  </thead>\n",
       "  <tbody>\n",
       "    <tr>\n",
       "      <th>0</th>\n",
       "      <td>Item_Weight</td>\n",
       "      <td>float64</td>\n",
       "      <td>0</td>\n",
       "      <td>0.0</td>\n",
       "      <td>416</td>\n",
       "      <td>-1.0</td>\n",
       "      <td>21.35</td>\n",
       "    </tr>\n",
       "    <tr>\n",
       "      <th>1</th>\n",
       "      <td>Item_Fat_Content</td>\n",
       "      <td>object</td>\n",
       "      <td>0</td>\n",
       "      <td>0.0</td>\n",
       "      <td>2</td>\n",
       "      <td>Low Fat</td>\n",
       "      <td>Regular</td>\n",
       "    </tr>\n",
       "    <tr>\n",
       "      <th>2</th>\n",
       "      <td>Item_Visibility</td>\n",
       "      <td>float64</td>\n",
       "      <td>0</td>\n",
       "      <td>0.0</td>\n",
       "      <td>7880</td>\n",
       "      <td>0.0</td>\n",
       "      <td>0.328391</td>\n",
       "    </tr>\n",
       "    <tr>\n",
       "      <th>3</th>\n",
       "      <td>Item_Type</td>\n",
       "      <td>object</td>\n",
       "      <td>0</td>\n",
       "      <td>0.0</td>\n",
       "      <td>16</td>\n",
       "      <td>Baking Goods</td>\n",
       "      <td>Starchy Foods</td>\n",
       "    </tr>\n",
       "    <tr>\n",
       "      <th>4</th>\n",
       "      <td>Item_MRP</td>\n",
       "      <td>float64</td>\n",
       "      <td>0</td>\n",
       "      <td>0.0</td>\n",
       "      <td>5938</td>\n",
       "      <td>31.29</td>\n",
       "      <td>266.8884</td>\n",
       "    </tr>\n",
       "    <tr>\n",
       "      <th>5</th>\n",
       "      <td>Outlet_Size</td>\n",
       "      <td>object</td>\n",
       "      <td>0</td>\n",
       "      <td>0.0</td>\n",
       "      <td>4</td>\n",
       "      <td>High</td>\n",
       "      <td>Small</td>\n",
       "    </tr>\n",
       "    <tr>\n",
       "      <th>6</th>\n",
       "      <td>Item_Outlet_Sales</td>\n",
       "      <td>float64</td>\n",
       "      <td>0</td>\n",
       "      <td>0.0</td>\n",
       "      <td>3493</td>\n",
       "      <td>33.29</td>\n",
       "      <td>13086.9648</td>\n",
       "    </tr>\n",
       "  </tbody>\n",
       "</table>\n",
       "</div>"
      ],
      "text/plain": [
       "              Column    dtype  # null  null (%)  nunique           min  \\\n",
       "0        Item_Weight  float64       0       0.0      416          -1.0   \n",
       "1   Item_Fat_Content   object       0       0.0        2       Low Fat   \n",
       "2    Item_Visibility  float64       0       0.0     7880           0.0   \n",
       "3          Item_Type   object       0       0.0       16  Baking Goods   \n",
       "4           Item_MRP  float64       0       0.0     5938         31.29   \n",
       "5        Outlet_Size   object       0       0.0        4          High   \n",
       "6  Item_Outlet_Sales  float64       0       0.0     3493         33.29   \n",
       "\n",
       "             max  \n",
       "0          21.35  \n",
       "1        Regular  \n",
       "2       0.328391  \n",
       "3  Starchy Foods  \n",
       "4       266.8884  \n",
       "5          Small  \n",
       "6     13086.9648  "
      ]
     },
     "execution_count": 5,
     "metadata": {},
     "output_type": "execute_result"
    }
   ],
   "source": [
    "summarize_df(df)"
   ]
  },
  {
   "cell_type": "markdown",
   "id": "4f7a254e",
   "metadata": {},
   "source": [
    "## Train Test Split\n",
    "\n",
    "- Remake your X_train and X_test as DataFrames with the feature names extracted from the column transformer instead of combining your preprocessor and model into 1 pipeline.\n"
   ]
  },
  {
   "cell_type": "code",
   "execution_count": 6,
   "id": "f9d3be91",
   "metadata": {},
   "outputs": [
    {
     "data": {
      "text/html": [
       "<div>\n",
       "<style scoped>\n",
       "    .dataframe tbody tr th:only-of-type {\n",
       "        vertical-align: middle;\n",
       "    }\n",
       "\n",
       "    .dataframe tbody tr th {\n",
       "        vertical-align: top;\n",
       "    }\n",
       "\n",
       "    .dataframe thead th {\n",
       "        text-align: right;\n",
       "    }\n",
       "</style>\n",
       "<table border=\"1\" class=\"dataframe\">\n",
       "  <thead>\n",
       "    <tr style=\"text-align: right;\">\n",
       "      <th></th>\n",
       "      <th>Item_Weight</th>\n",
       "      <th>Item_Fat_Content</th>\n",
       "      <th>Item_Visibility</th>\n",
       "      <th>Item_Type</th>\n",
       "      <th>Item_MRP</th>\n",
       "      <th>Outlet_Size</th>\n",
       "    </tr>\n",
       "  </thead>\n",
       "  <tbody>\n",
       "    <tr>\n",
       "      <th>8269</th>\n",
       "      <td>7.220</td>\n",
       "      <td>Regular</td>\n",
       "      <td>0.064142</td>\n",
       "      <td>Baking Goods</td>\n",
       "      <td>61.2510</td>\n",
       "      <td>MISSING</td>\n",
       "    </tr>\n",
       "    <tr>\n",
       "      <th>7604</th>\n",
       "      <td>6.135</td>\n",
       "      <td>Low Fat</td>\n",
       "      <td>0.079294</td>\n",
       "      <td>Soft Drinks</td>\n",
       "      <td>111.2860</td>\n",
       "      <td>Medium</td>\n",
       "    </tr>\n",
       "    <tr>\n",
       "      <th>2762</th>\n",
       "      <td>12.150</td>\n",
       "      <td>Low Fat</td>\n",
       "      <td>0.028593</td>\n",
       "      <td>Household</td>\n",
       "      <td>151.0708</td>\n",
       "      <td>Small</td>\n",
       "    </tr>\n",
       "    <tr>\n",
       "      <th>6464</th>\n",
       "      <td>5.945</td>\n",
       "      <td>Low Fat</td>\n",
       "      <td>0.093009</td>\n",
       "      <td>Household</td>\n",
       "      <td>127.8652</td>\n",
       "      <td>Small</td>\n",
       "    </tr>\n",
       "    <tr>\n",
       "      <th>4707</th>\n",
       "      <td>18.200</td>\n",
       "      <td>Regular</td>\n",
       "      <td>0.066285</td>\n",
       "      <td>Fruits and Vegetables</td>\n",
       "      <td>247.2092</td>\n",
       "      <td>Small</td>\n",
       "    </tr>\n",
       "  </tbody>\n",
       "</table>\n",
       "</div>"
      ],
      "text/plain": [
       "      Item_Weight Item_Fat_Content  Item_Visibility              Item_Type  \\\n",
       "8269        7.220          Regular         0.064142           Baking Goods   \n",
       "7604        6.135          Low Fat         0.079294            Soft Drinks   \n",
       "2762       12.150          Low Fat         0.028593              Household   \n",
       "6464        5.945          Low Fat         0.093009              Household   \n",
       "4707       18.200          Regular         0.066285  Fruits and Vegetables   \n",
       "\n",
       "      Item_MRP Outlet_Size  \n",
       "8269   61.2510     MISSING  \n",
       "7604  111.2860      Medium  \n",
       "2762  151.0708       Small  \n",
       "6464  127.8652       Small  \n",
       "4707  247.2092       Small  "
      ]
     },
     "execution_count": 6,
     "metadata": {},
     "output_type": "execute_result"
    }
   ],
   "source": [
    "## Make x and y variables\n",
    "y = df['Item_Outlet_Sales'].copy()\n",
    "X = df.drop(columns=['Item_Outlet_Sales']).copy()\n",
    "## train-test-split with random state for reproducibility\n",
    "X_train, X_test, y_train, y_test = train_test_split(X,y, random_state=SEED)\n",
    "X_train.head()"
   ]
  },
  {
   "cell_type": "code",
   "execution_count": 7,
   "id": "9a1be9af",
   "metadata": {},
   "outputs": [],
   "source": [
    "## make categorical selector and verify it works \n",
    "cat_sel = make_column_selector(dtype_include='object')\n",
    "\n",
    "## make numeric selector and verify it works \n",
    "num_sel = make_column_selector(dtype_include='number')"
   ]
  },
  {
   "cell_type": "code",
   "execution_count": 8,
   "id": "c147225f",
   "metadata": {},
   "outputs": [
    {
     "name": "stdout",
     "output_type": "stream",
     "text": [
      "For Item_Fat_Content:\n",
      "['Low Fat' 'Regular']\n",
      "\n",
      "For Item_Type:\n",
      "['Dairy' 'Soft Drinks' 'Meat' 'Fruits and Vegetables' 'Household'\n",
      " 'Baking Goods' 'Snack Foods' 'Frozen Foods' 'Breakfast'\n",
      " 'Health and Hygiene' 'Hard Drinks' 'Canned' 'Breads' 'Starchy Foods'\n",
      " 'Others' 'Seafood']\n",
      "\n",
      "For Outlet_Size:\n",
      "['Medium' 'MISSING' 'High' 'Small']\n",
      "\n"
     ]
    }
   ],
   "source": [
    "for col in cat_sel(X):\n",
    "    print(f\"For {col}:\\n{X[col].unique()}\\n\")"
   ]
  },
  {
   "cell_type": "code",
   "execution_count": 9,
   "id": "4e79e485",
   "metadata": {},
   "outputs": [
    {
     "data": {
      "text/html": [
       "<div>\n",
       "<style scoped>\n",
       "    .dataframe tbody tr th:only-of-type {\n",
       "        vertical-align: middle;\n",
       "    }\n",
       "\n",
       "    .dataframe tbody tr th {\n",
       "        vertical-align: top;\n",
       "    }\n",
       "\n",
       "    .dataframe thead th {\n",
       "        text-align: right;\n",
       "    }\n",
       "</style>\n",
       "<table border=\"1\" class=\"dataframe\">\n",
       "  <thead>\n",
       "    <tr style=\"text-align: right;\">\n",
       "      <th></th>\n",
       "      <th>Item_Weight</th>\n",
       "      <th>Item_Visibility</th>\n",
       "      <th>Item_MRP</th>\n",
       "      <th>Item_Fat_Content_Low Fat</th>\n",
       "      <th>Item_Type_Baking Goods</th>\n",
       "      <th>Item_Type_Breads</th>\n",
       "      <th>Item_Type_Breakfast</th>\n",
       "      <th>Item_Type_Canned</th>\n",
       "      <th>Item_Type_Dairy</th>\n",
       "      <th>Item_Type_Frozen Foods</th>\n",
       "      <th>Item_Type_Fruits and Vegetables</th>\n",
       "      <th>Item_Type_Hard Drinks</th>\n",
       "      <th>Item_Type_Health and Hygiene</th>\n",
       "      <th>Item_Type_Household</th>\n",
       "      <th>Item_Type_Meat</th>\n",
       "      <th>Item_Type_Seafood</th>\n",
       "      <th>Item_Type_Snack Foods</th>\n",
       "      <th>Item_Type_Soft Drinks</th>\n",
       "      <th>Item_Type_Starchy Foods</th>\n",
       "      <th>Outlet_Size_High</th>\n",
       "      <th>Outlet_Size_Medium</th>\n",
       "      <th>Outlet_Size_Small</th>\n",
       "    </tr>\n",
       "  </thead>\n",
       "  <tbody>\n",
       "    <tr>\n",
       "      <th>8077</th>\n",
       "      <td>15.25</td>\n",
       "      <td>0.061531</td>\n",
       "      <td>132.2968</td>\n",
       "      <td>1.0</td>\n",
       "      <td>0.0</td>\n",
       "      <td>0.0</td>\n",
       "      <td>0.0</td>\n",
       "      <td>0.0</td>\n",
       "      <td>0.0</td>\n",
       "      <td>0.0</td>\n",
       "      <td>0.0</td>\n",
       "      <td>0.0</td>\n",
       "      <td>0.0</td>\n",
       "      <td>1.0</td>\n",
       "      <td>0.0</td>\n",
       "      <td>0.0</td>\n",
       "      <td>0.0</td>\n",
       "      <td>0.0</td>\n",
       "      <td>0.0</td>\n",
       "      <td>0.0</td>\n",
       "      <td>0.0</td>\n",
       "      <td>0.0</td>\n",
       "    </tr>\n",
       "    <tr>\n",
       "      <th>2391</th>\n",
       "      <td>17.85</td>\n",
       "      <td>0.044463</td>\n",
       "      <td>127.1020</td>\n",
       "      <td>1.0</td>\n",
       "      <td>0.0</td>\n",
       "      <td>0.0</td>\n",
       "      <td>0.0</td>\n",
       "      <td>0.0</td>\n",
       "      <td>0.0</td>\n",
       "      <td>0.0</td>\n",
       "      <td>0.0</td>\n",
       "      <td>0.0</td>\n",
       "      <td>0.0</td>\n",
       "      <td>0.0</td>\n",
       "      <td>0.0</td>\n",
       "      <td>0.0</td>\n",
       "      <td>1.0</td>\n",
       "      <td>0.0</td>\n",
       "      <td>0.0</td>\n",
       "      <td>0.0</td>\n",
       "      <td>0.0</td>\n",
       "      <td>1.0</td>\n",
       "    </tr>\n",
       "    <tr>\n",
       "      <th>163</th>\n",
       "      <td>7.27</td>\n",
       "      <td>0.071078</td>\n",
       "      <td>114.2518</td>\n",
       "      <td>1.0</td>\n",
       "      <td>0.0</td>\n",
       "      <td>0.0</td>\n",
       "      <td>0.0</td>\n",
       "      <td>0.0</td>\n",
       "      <td>0.0</td>\n",
       "      <td>0.0</td>\n",
       "      <td>0.0</td>\n",
       "      <td>0.0</td>\n",
       "      <td>0.0</td>\n",
       "      <td>0.0</td>\n",
       "      <td>0.0</td>\n",
       "      <td>0.0</td>\n",
       "      <td>0.0</td>\n",
       "      <td>1.0</td>\n",
       "      <td>0.0</td>\n",
       "      <td>0.0</td>\n",
       "      <td>0.0</td>\n",
       "      <td>1.0</td>\n",
       "    </tr>\n",
       "  </tbody>\n",
       "</table>\n",
       "</div>"
      ],
      "text/plain": [
       "      Item_Weight  Item_Visibility  Item_MRP  Item_Fat_Content_Low Fat  \\\n",
       "8077        15.25         0.061531  132.2968                       1.0   \n",
       "2391        17.85         0.044463  127.1020                       1.0   \n",
       "163          7.27         0.071078  114.2518                       1.0   \n",
       "\n",
       "      Item_Type_Baking Goods  Item_Type_Breads  Item_Type_Breakfast  \\\n",
       "8077                     0.0               0.0                  0.0   \n",
       "2391                     0.0               0.0                  0.0   \n",
       "163                      0.0               0.0                  0.0   \n",
       "\n",
       "      Item_Type_Canned  Item_Type_Dairy  Item_Type_Frozen Foods  \\\n",
       "8077               0.0              0.0                     0.0   \n",
       "2391               0.0              0.0                     0.0   \n",
       "163                0.0              0.0                     0.0   \n",
       "\n",
       "      Item_Type_Fruits and Vegetables  Item_Type_Hard Drinks  \\\n",
       "8077                              0.0                    0.0   \n",
       "2391                              0.0                    0.0   \n",
       "163                               0.0                    0.0   \n",
       "\n",
       "      Item_Type_Health and Hygiene  Item_Type_Household  Item_Type_Meat  \\\n",
       "8077                           0.0                  1.0             0.0   \n",
       "2391                           0.0                  0.0             0.0   \n",
       "163                            0.0                  0.0             0.0   \n",
       "\n",
       "      Item_Type_Seafood  Item_Type_Snack Foods  Item_Type_Soft Drinks  \\\n",
       "8077                0.0                    0.0                    0.0   \n",
       "2391                0.0                    1.0                    0.0   \n",
       "163                 0.0                    0.0                    1.0   \n",
       "\n",
       "      Item_Type_Starchy Foods  Outlet_Size_High  Outlet_Size_Medium  \\\n",
       "8077                      0.0               0.0                 0.0   \n",
       "2391                      0.0               0.0                 0.0   \n",
       "163                       0.0               0.0                 0.0   \n",
       "\n",
       "      Outlet_Size_Small  \n",
       "8077                0.0  \n",
       "2391                1.0  \n",
       "163                 1.0  "
      ]
     },
     "execution_count": 9,
     "metadata": {},
     "output_type": "execute_result"
    }
   ],
   "source": [
    "\n",
    "drop_cats=['Regular','Others','MISSING']\n",
    "\n",
    "\n",
    "## make pipelines for categorical vs numeric data\n",
    "cat_pipe = make_pipeline(SimpleImputer(strategy='constant',\n",
    "                                       fill_value='MISSING'),\n",
    "                         OneHotEncoder(drop=drop_cats, sparse_output=False))\n",
    "num_pipe = make_pipeline(SimpleImputer(strategy='mean'))\n",
    "## make the preprocessing column transformer\n",
    "preprocessor = make_column_transformer((num_pipe, num_sel),\n",
    "                                       (cat_pipe,cat_sel),\n",
    "                                      verbose_feature_names_out=False)\n",
    "## fit column transformer and run get_feature_names_out\n",
    "preprocessor.fit(X_train)\n",
    "feature_names = preprocessor.get_feature_names_out()\n",
    "\n",
    "\n",
    "X_train_df = pd.DataFrame(preprocessor.transform(X_train),\n",
    "                           columns = feature_names, index = X_train.index)\n",
    "X_test_df = pd.DataFrame(preprocessor.transform(X_test),\n",
    "                           columns = feature_names, index = X_test.index)\n",
    "X_test_df.head(3)"
   ]
  },
  {
   "cell_type": "markdown",
   "id": "9acacf14",
   "metadata": {},
   "source": [
    "## LinearRegression\n",
    "- Fit and evaluate your LinearRegresion model using your dataframe X_train and X_test data.\n",
    "- Extract and visualize the coefficients that your model determined.\n",
    "    - Select the top 3 most impactful features and interpret their coefficients in plain English.\n",
    "- Save your figure as a .png file inside your repository (you will need this for the final piece of this assignment - Update Your README)."
   ]
  },
  {
   "cell_type": "code",
   "execution_count": 10,
   "id": "f22a730f",
   "metadata": {},
   "outputs": [],
   "source": [
    "# define linreg function \n",
    "def evaluate_regression(model, X_train,y_train, X_test, y_test):    \n",
    "    ## Training Data\n",
    "    y_pred_train = model.predict(X_train)\n",
    "    r2_train = metrics.r2_score(y_train, y_pred_train)\n",
    "    rmse_train = metrics.mean_squared_error(y_train, y_pred_train, \n",
    "                                            squared=False)\n",
    "    \n",
    "    print(f\"Training Data:\\tR^2= {r2_train:.2f}\\tRMSE= {rmse_train:.2f}\")\n",
    "        \n",
    "    \n",
    "    ## Test Data\n",
    "    y_pred_test = model.predict(X_test)\n",
    "    r2_test = metrics.r2_score(y_test, y_pred_test)\n",
    "    rmse_test = metrics.mean_squared_error(y_test, y_pred_test, \n",
    "                                            squared=False)\n",
    "    \n",
    "    print(f\"Test Data:\\tR^2= {r2_test:.2f}\\tRMSE= {rmse_test:.2f}\")\n",
    "    \n",
    "    \n",
    "# define  coef grabber function\n",
    "def get_coeffs_linreg(lin_reg, feature_names = None, sort=True,ascending=True,\n",
    "                     name='LinearRegression Coefficients'):\n",
    "    if feature_names is None:\n",
    "        feature_names = lin_reg.feature_names_in_\n",
    "    ## Saving the coefficients\n",
    "    coeffs = pd.Series(lin_reg.coef_, index= feature_names)\n",
    "    \n",
    "    if sort==True:\n",
    "        coeffs = coeffs.sort_values(ascending=ascending)\n",
    "    return coeffs"
   ]
  },
  {
   "cell_type": "code",
   "execution_count": 11,
   "id": "0a22b385",
   "metadata": {},
   "outputs": [
    {
     "name": "stdout",
     "output_type": "stream",
     "text": [
      "Training Data:\tR^2= 0.38\tRMSE= 1325.54\n",
      "Test Data:\tR^2= 0.38\tRMSE= 1378.87\n"
     ]
    }
   ],
   "source": [
    "## fitting a linear regression model\n",
    "lin_reg = LinearRegression()\n",
    "lin_reg.fit(X_train_df, y_train)\n",
    "evaluate_regression(lin_reg, X_train_df, y_train, X_test_df,y_test)"
   ]
  },
  {
   "cell_type": "code",
   "execution_count": 12,
   "id": "827d7af8",
   "metadata": {},
   "outputs": [
    {
     "data": {
      "text/plain": [
       "Item_Visibility                   -3677.402557\n",
       "Item_Fat_Content_Low Fat            -28.030949\n",
       "Item_Weight                          -6.963458\n",
       "Item_Type_Soft Drinks                10.421020\n",
       "Item_MRP                             15.589686\n",
       "Item_Type_Meat                       21.737199\n",
       "Outlet_Size_Small                    40.427363\n",
       "Item_Type_Health and Hygiene         40.590247\n",
       "Item_Type_Household                  43.608783\n",
       "Item_Type_Dairy                      68.707230\n",
       "Item_Type_Breads                     90.667416\n",
       "Item_Type_Snack Foods                96.828455\n",
       "Item_Type_Baking Goods              119.560356\n",
       "Item_Type_Frozen Foods              133.682430\n",
       "Item_Type_Breakfast                 144.736785\n",
       "Item_Type_Canned                    147.233714\n",
       "Item_Type_Seafood                   154.788247\n",
       "Item_Type_Fruits and Vegetables     157.242620\n",
       "Item_Type_Hard Drinks               172.524578\n",
       "Item_Type_Starchy Foods             207.812116\n",
       "Outlet_Size_High                    442.098450\n",
       "Outlet_Size_Medium                  773.116267\n",
       "dtype: float64"
      ]
     },
     "execution_count": 12,
     "metadata": {},
     "output_type": "execute_result"
    }
   ],
   "source": [
    "coeffs = get_coeffs_linreg(lin_reg)\n",
    "coeffs\n"
   ]
  },
  {
   "cell_type": "code",
   "execution_count": 14,
   "id": "a87a1a76",
   "metadata": {},
   "outputs": [],
   "source": [
    "def plot_coeffs(coeffs, top_n=None, figsize=(4,5), \n",
    "                intercept=False, intercept_name=\"intercept\", \n",
    "                annotate=False, ha='left', va='center', size=12, \n",
    "                xytext=(4,0), textcoords='offset points'):\n",
    "    \"\"\" Plots the top_n coefficients from a Series, with optional annotations.\n",
    "    \"\"\"\n",
    "    # Drop intercept if intercept=False and \n",
    "    if (intercept == False) & (intercept_name in coeffs.index):\n",
    "        coeffs = coeffs.drop(intercept_name)\n",
    "    if top_n == None:\n",
    "        ## sort all features and set title\n",
    "        plot_vals = coeffs.sort_values()\n",
    "        title = \"All Coefficients - Ranked by Magnitude\"\n",
    "    else:\n",
    "        ## rank the coeffs and select the top_n\n",
    "        coeff_rank = coeffs.abs().rank().sort_values(ascending=False)\n",
    "        top_n_features = coeff_rank.head(top_n)\n",
    "        \n",
    "        ## sort features and keep top_n and set title\n",
    "        plot_vals = coeffs.loc[top_n_features.index].sort_values()\n",
    "        title = f\"Top {top_n} Largest Coefficients\"\n",
    "    ## plotting top N importances\n",
    "    ax = plot_vals.plot(kind='barh', figsize=figsize)\n",
    "    ax.set(xlabel='Coefficient', \n",
    "            ylabel='Feature Names', \n",
    "            title=title)\n",
    "    ax.axvline(0, color='k')\n",
    "    if annotate == True:\n",
    "        annotate_hbars(ax, ha=ha, va=va, size=size, xytext=xytext, textcoords=textcoords)\n",
    "    return ax"
   ]
  },
  {
   "cell_type": "code",
   "execution_count": 15,
   "id": "cb67255d",
   "metadata": {},
   "outputs": [
    {
     "data": {
      "text/plain": [
       "<Axes: title={'center': 'Top 3 Largest Coefficients'}, xlabel='Coefficient', ylabel='Feature Names'>"
      ]
     },
     "execution_count": 15,
     "metadata": {},
     "output_type": "execute_result"
    },
    {
     "data": {
      "image/png": "[encoded data removed]",
      "text/plain": [
       "<Figure size 400x500 with 1 Axes>"
      ]
     },
     "metadata": {},
     "output_type": "display_data"
    }
   ],
   "source": [
    "plot_coeffs(coeffs,top_n=3)"
   ]
  },
  {
   "attachments": {
    "image.png": {
     "image/png": "[encoded data removed]"
    }
   },
   "cell_type": "markdown",
   "id": "5fe3dfe6",
   "metadata": {},
   "source": [
    "![image.png](attachment:image.png)"
   ]
  },
  {
   "cell_type": "markdown",
   "id": "fcdb31c5",
   "metadata": {},
   "source": [
    "- the largest negitive factor that affects an items sale is the visibility of the item, while having a slightly larger store is more of a positive effect then a LARGE storefront."
   ]
  },
  {
   "cell_type": "markdown",
   "id": "c7eae372",
   "metadata": {},
   "source": [
    "# Tree-Based Model\n",
    "\n",
    "\n",
    "- Fit and evaluate your tree-based regression model using your dataframe X_train and X_test data.\n",
    "- Extract and visualize the feature importances that your model determined.\n",
    "- Identify the top 5 most important features.\n",
    "- Save your figure as a .png file inside your repository  (you will need this for the final piece of this assignment - Update Your README)."
   ]
  },
  {
   "cell_type": "code",
   "execution_count": 16,
   "id": "39e6a1b4",
   "metadata": {},
   "outputs": [
    {
     "name": "stdout",
     "output_type": "stream",
     "text": [
      "Training Data:\tR^2= 0.92\tRMSE= 467.39\n",
      "Test Data:\tR^2= 0.46\tRMSE= 1285.28\n"
     ]
    }
   ],
   "source": [
    "reg = RandomForestRegressor(random_state=SEED)\n",
    "reg.fit(X_train_df,y_train)\n",
    "evaluate_regression(reg, X_train_df, y_train, X_test_df, y_test)"
   ]
  },
  {
   "cell_type": "code",
   "execution_count": 17,
   "id": "a94c2400",
   "metadata": {},
   "outputs": [
    {
     "data": {
      "text/plain": [
       "array([0.21197975, 0.14666299, 0.47113024, 0.01133441, 0.00587426,\n",
       "       0.00395861, 0.00290526, 0.00622473, 0.00701647, 0.00732978,\n",
       "       0.01074695, 0.00384369, 0.0051797 , 0.0085502 , 0.00496577,\n",
       "       0.00180145, 0.01018462, 0.00535607, 0.00380001, 0.00921915,\n",
       "       0.04830202, 0.01363388])"
      ]
     },
     "execution_count": 17,
     "metadata": {},
     "output_type": "execute_result"
    }
   ],
   "source": [
    "reg.feature_importances_"
   ]
  },
  {
   "cell_type": "code",
   "execution_count": 18,
   "id": "080a02a4",
   "metadata": {},
   "outputs": [
    {
     "name": "stdout",
     "output_type": "stream",
     "text": [
      "22\n",
      "22\n"
     ]
    },
    {
     "data": {
      "text/plain": [
       "True"
      ]
     },
     "execution_count": 18,
     "metadata": {},
     "output_type": "execute_result"
    }
   ],
   "source": [
    "## Checking the number of feature importances matches the # of columns\n",
    "print(len(reg.feature_importances_))\n",
    "print(len(X_train_df.columns))\n",
    "len(reg.feature_importances_) == len(X_train_df.columns)"
   ]
  },
  {
   "cell_type": "code",
   "execution_count": 19,
   "id": "49aa4d50",
   "metadata": {},
   "outputs": [
    {
     "data": {
      "text/plain": [
       "Item_Weight                        0.211980\n",
       "Item_Visibility                    0.146663\n",
       "Item_MRP                           0.471130\n",
       "Item_Fat_Content_Low Fat           0.011334\n",
       "Item_Type_Baking Goods             0.005874\n",
       "Item_Type_Breads                   0.003959\n",
       "Item_Type_Breakfast                0.002905\n",
       "Item_Type_Canned                   0.006225\n",
       "Item_Type_Dairy                    0.007016\n",
       "Item_Type_Frozen Foods             0.007330\n",
       "Item_Type_Fruits and Vegetables    0.010747\n",
       "Item_Type_Hard Drinks              0.003844\n",
       "Item_Type_Health and Hygiene       0.005180\n",
       "Item_Type_Household                0.008550\n",
       "Item_Type_Meat                     0.004966\n",
       "Item_Type_Seafood                  0.001801\n",
       "Item_Type_Snack Foods              0.010185\n",
       "Item_Type_Soft Drinks              0.005356\n",
       "Item_Type_Starchy Foods            0.003800\n",
       "Outlet_Size_High                   0.009219\n",
       "Outlet_Size_Medium                 0.048302\n",
       "Outlet_Size_Small                  0.013634\n",
       "Name: Feature Importance, dtype: float64"
      ]
     },
     "execution_count": 19,
     "metadata": {},
     "output_type": "execute_result"
    }
   ],
   "source": [
    "importances = pd.Series(reg.feature_importances_, index= feature_names,\n",
    "                       name='Feature Importance')\n",
    "importances"
   ]
  },
  {
   "cell_type": "code",
   "execution_count": 20,
   "id": "8c10c06d",
   "metadata": {},
   "outputs": [
    {
     "data": {
      "text/plain": [
       "Item_MRP                           0.471130\n",
       "Item_Weight                        0.211980\n",
       "Item_Visibility                    0.146663\n",
       "Outlet_Size_Medium                 0.048302\n",
       "Outlet_Size_Small                  0.013634\n",
       "Item_Fat_Content_Low Fat           0.011334\n",
       "Item_Type_Fruits and Vegetables    0.010747\n",
       "Item_Type_Snack Foods              0.010185\n",
       "Outlet_Size_High                   0.009219\n",
       "Item_Type_Household                0.008550\n",
       "Item_Type_Frozen Foods             0.007330\n",
       "Item_Type_Dairy                    0.007016\n",
       "Item_Type_Canned                   0.006225\n",
       "Item_Type_Baking Goods             0.005874\n",
       "Item_Type_Soft Drinks              0.005356\n",
       "Item_Type_Health and Hygiene       0.005180\n",
       "Item_Type_Meat                     0.004966\n",
       "Item_Type_Breads                   0.003959\n",
       "Item_Type_Hard Drinks              0.003844\n",
       "Item_Type_Starchy Foods            0.003800\n",
       "Item_Type_Breakfast                0.002905\n",
       "Item_Type_Seafood                  0.001801\n",
       "Name: Feature Importance, dtype: float64"
      ]
     },
     "execution_count": 20,
     "metadata": {},
     "output_type": "execute_result"
    }
   ],
   "source": [
    "## Saving the feature importances sorted from largest to smallest (ascending=False)\n",
    "sorted_importance = importances.sort_values(ascending=False)\n",
    "sorted_importance"
   ]
  },
  {
   "cell_type": "code",
   "execution_count": 21,
   "id": "7c4e90b9",
   "metadata": {},
   "outputs": [
    {
     "data": {
      "text/plain": [
       "<Axes: >"
      ]
     },
     "execution_count": 21,
     "metadata": {},
     "output_type": "execute_result"
    },
    {
     "data": {
      "image/png": "[encoded data removed]",
      "text/plain": [
       "<Figure size 800x600 with 1 Axes>"
      ]
     },
     "metadata": {},
     "output_type": "display_data"
    }
   ],
   "source": [
    "## just keep the top 5 importances and plot\n",
    "sorted_importance.head(5).plot(kind='barh',\n",
    "                                   figsize=(8,6))"
   ]
  },
  {
   "attachments": {
    "image.png": {
     "image/png": "[encoded data removed]"
    }
   },
   "cell_type": "markdown",
   "id": "7bdc5262",
   "metadata": {},
   "source": [
    "![image.png](attachment:image.png)"
   ]
  },
  {
   "cell_type": "markdown",
   "id": "49f5d2bb",
   "metadata": {},
   "source": [
    "- item mrp is clearly of the largest importance for predicting the items outlet sales."
   ]
  },
  {
   "cell_type": "markdown",
   "id": "0fdf4f46",
   "metadata": {},
   "source": [
    "# Serialize Your Best Models with Joblib\n",
    "- Once you've finished updating and explaining your models, you must save the following key: value pairs as a dictionary in a joblib file named \"best-models.joblib\":\n",
    "    - \"preprocessor\": your preprocessing  column transformer\n",
    "    - \"X_train\": your training features.\n",
    "    - \"X_test\": your test features.\n",
    "    - \"y_train\": your training target.\n",
    "    - \"y_test\": your test target.\n",
    "    - \"LinearRegression\": your best linear regression\n",
    "    - Your tree-based model's class name: your best tree-based model.\n",
    "        - e.g. \"RandomForestRegressor\"/\"DecisionTreeRegressor\"\n",
    "    - Save your joblib file inside your repository. (You will work with these models again in the next core assignment.)"
   ]
  },
  {
   "cell_type": "code",
   "execution_count": 22,
   "id": "d4bee430",
   "metadata": {},
   "outputs": [
    {
     "name": "stdout",
     "output_type": "stream",
     "text": [
      "Training Data:\tR^2= 0.92\tRMSE= 467.39\n",
      "Test Data:\tR^2= 0.46\tRMSE= 1285.28\n"
     ]
    }
   ],
   "source": [
    "## Fitting and evaluating the model for export.\n",
    "rf_reg = RandomForestRegressor()\n",
    "rf_reg.fit(X_train_df, y_train)\n",
    "evaluate_regression(rf_reg, X_train_df, y_train, X_test_df, y_test)"
   ]
  },
  {
   "cell_type": "code",
   "execution_count": 23,
   "id": "5fd6fedc",
   "metadata": {},
   "outputs": [
    {
     "name": "stdout",
     "output_type": "stream",
     "text": [
      "Training Data:\tR^2= 0.38\tRMSE= 1325.54\n",
      "Test Data:\tR^2= 0.38\tRMSE= 1378.87\n"
     ]
    }
   ],
   "source": [
    "## fitting a linear regression model for export\n",
    "lin_reg = LinearRegression()\n",
    "lin_reg.fit(X_train_df, y_train)\n",
    "evaluate_regression(lin_reg, X_train_df, y_train, X_test_df,y_test)"
   ]
  },
  {
   "cell_type": "code",
   "execution_count": 25,
   "id": "01250680",
   "metadata": {},
   "outputs": [
    {
     "data": {
      "text/plain": [
       "['best_models.joblib']"
      ]
     },
     "execution_count": 25,
     "metadata": {},
     "output_type": "execute_result"
    }
   ],
   "source": [
    "## saving variables for next lesson/notebook\n",
    "import joblib\n",
    "## creating a dictionary of all of the variables to save for later\n",
    "export = {'X_train':X_train_df,\n",
    "         'y_train': y_train,\n",
    "         'X_test':X_test_df,\n",
    "          \"y_test\": y_test,\n",
    "         'preprocessor':preprocessor,\n",
    "         'RandomForestRegressor':rf_reg,\n",
    "         'LinearRegression':lin_reg}\n",
    "joblib.dump(export, 'best_models.joblib')"
   ]
  },
  {
   "cell_type": "code",
   "execution_count": null,
   "id": "188179b2",
   "metadata": {},
   "outputs": [],
   "source": []
  }
 ],
 "metadata": {
  "kernelspec": {
   "display_name": "Python (dojo-env)",
   "language": "python",
   "name": "dojo-env"
  },
  "language_info": {
   "codemirror_mode": {
    "name": "ipython",
    "version": 3
   },
   "file_extension": ".py",
   "mimetype": "text/x-python",
   "name": "python",
   "nbconvert_exporter": "python",
   "pygments_lexer": "ipython3",
   "version": "3.9.15"
  },
  "toc": {
   "base_numbering": 1,
   "nav_menu": {},
   "number_sections": false,
   "sideBar": true,
   "skip_h1_title": false,
   "title_cell": "Table of Contents",
   "title_sidebar": "Contents",
   "toc_cell": false,
   "toc_position": {},
   "toc_section_display": true,
   "toc_window_display": false
  }
 },
 "nbformat": 4,
 "nbformat_minor": 5
}
